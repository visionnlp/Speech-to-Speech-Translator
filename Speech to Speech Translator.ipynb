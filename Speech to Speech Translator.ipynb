{
 "cells": [
  {
   "cell_type": "markdown",
   "metadata": {},
   "source": [
    "<h1 align='center'>Speech to Speech Translator</h1>\n",
    "\n",
    "+ First find id of input microphone"
   ]
  },
  {
   "cell_type": "code",
   "execution_count": 2,
   "metadata": {},
   "outputs": [
    {
     "name": "stdout",
     "output_type": "stream",
     "text": [
      "0 Microsoft Sound Mapper - Input\n",
      "1 Microphone Array (Conexant Smar\n",
      "2 Microsoft Sound Mapper - Output\n",
      "3 Speakers (Conexant SmartAudio H\n",
      "4 Primary Sound Capture Driver\n",
      "5 Microphone Array (Conexant SmartAudio HD)\n",
      "6 Primary Sound Driver\n",
      "7 Speakers (Conexant SmartAudio HD)\n",
      "8 Speakers (Conexant SmartAudio HD)\n",
      "9 Microphone Array (Conexant SmartAudio HD)\n",
      "10 Microphone Array (Conexant HD Audio capture)\n",
      "11 Speakers (Conexant HD Audio output)\n"
     ]
    }
   ],
   "source": [
    "import pyaudio\n",
    "p = pyaudio.PyAudio()\n",
    "for i in range(p.get_device_count()):\n",
    "    info = p.get_device_info_by_index(i)\n",
    "    print(info['index'], info['name'])"
   ]
  },
  {
   "cell_type": "markdown",
   "metadata": {},
   "source": [
    ">In my case Input device_id is **5**"
   ]
  },
  {
   "cell_type": "code",
   "execution_count": 3,
   "metadata": {},
   "outputs": [],
   "source": [
    "import speech_recognition as sr\n",
    "from googletrans import Translator\n",
    "from gtts import gTTS \n",
    "import IPython.display as ipd\n",
    "sample_rate = 48000\n",
    "chunk_size = 2048\n",
    "r = sr.Recognizer()\n",
    "translator = Translator()\n",
    "device_id = 5 #change with your device\n",
    "\n",
    "def stt():\n",
    "    with sr.Microphone(device_index = device_id, sample_rate = sample_rate, \n",
    "                            chunk_size = chunk_size) as source:\n",
    "        r.adjust_for_ambient_noise(source) \n",
    "        print(\"Say Something\")\n",
    "        audio = r.listen(source) \n",
    "        try: \n",
    "            text = r.recognize_google(audio) \n",
    "            print(\"you said: \" + text)\n",
    "            return text\n",
    "        except sr.UnknownValueError: \n",
    "            print(\"Google Speech Recognition could not understand audio\") \n",
    "        except sr.RequestError as e: \n",
    "            print(\"Could not request results from Google Speech Recognition service; {0}\".format(e))"
   ]
  },
  {
   "cell_type": "code",
   "execution_count": 4,
   "metadata": {},
   "outputs": [],
   "source": [
    "path = \"tp.mp3\"\n",
    "def sts(language='en'):\n",
    "    text = stt()\n",
    "    if text is None:\n",
    "        return None\n",
    "    t = translator.translate(text)\n",
    "    myobj = gTTS(text=t.text, lang=language, slow=False) \n",
    "    myobj.save(path)\n",
    "    return ipd.Audio(path)"
   ]
  },
  {
   "cell_type": "code",
   "execution_count": 7,
   "metadata": {},
   "outputs": [
    {
     "name": "stdout",
     "output_type": "stream",
     "text": [
      "Say Something\n",
      "Google Speech Recognition could not understand audio\n"
     ]
    }
   ],
   "source": [
    "language = 'hi'\n",
    "sts(language)"
   ]
  },
  {
   "cell_type": "code",
   "execution_count": null,
   "metadata": {},
   "outputs": [],
   "source": []
  }
 ],
 "metadata": {
  "kernelspec": {
   "display_name": "Python 3",
   "language": "python",
   "name": "python3"
  },
  "language_info": {
   "codemirror_mode": {
    "name": "ipython",
    "version": 3
   },
   "file_extension": ".py",
   "mimetype": "text/x-python",
   "name": "python",
   "nbconvert_exporter": "python",
   "pygments_lexer": "ipython3",
   "version": "3.7.4"
  }
 },
 "nbformat": 4,
 "nbformat_minor": 4
}
